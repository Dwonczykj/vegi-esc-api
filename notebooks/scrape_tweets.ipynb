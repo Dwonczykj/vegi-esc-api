{
 "cells": [
  {
   "cell_type": "code",
   "execution_count": 8,
   "metadata": {},
   "outputs": [],
   "source": [
    "import snscrape.modules.twitter as sntwitter\n",
    "import pandas as pd\n",
    "import json\n",
    "from pprint import pprint"
   ]
  },
  {
   "cell_type": "code",
   "execution_count": 5,
   "metadata": {},
   "outputs": [],
   "source": [
    "query = \"grocery supermarket food lang:en\""
   ]
  },
  {
   "cell_type": "code",
   "execution_count": 11,
   "metadata": {},
   "outputs": [
    {
     "name": "stdout",
     "output_type": "stream",
     "text": [
      "{'card': None,\n",
      " 'cashtags': None,\n",
      " 'conversationId': 1647978796434464768,\n",
      " 'coordinates': None,\n",
      " 'date': datetime.datetime(2023, 4, 17, 15, 2, 17, tzinfo=datetime.timezone.utc),\n",
      " 'hashtags': ['retail', 'supermarket', 'grocery'],\n",
      " 'id': 1647978796434464768,\n",
      " 'inReplyToTweetId': None,\n",
      " 'inReplyToUser': None,\n",
      " 'lang': 'en',\n",
      " 'likeCount': 1,\n",
      " 'links': [TextLink(text='rfr.bz/t5o9ayv',\n",
      "                    url='https://rfr.bz/t5o9ayv',\n",
      "                    tcourl='https://t.co/3KXG6Sh4LB',\n",
      "                    indices=(203, 226))],\n",
      " 'media': [Photo(previewUrl='https://pbs.twimg.com/media/Ft7L-3xaQAEkRvq?format=jpg&name=small',\n",
      "                 fullUrl='https://pbs.twimg.com/media/Ft7L-3xaQAEkRvq?format=jpg&name=orig',\n",
      "                 altText=None)],\n",
      " 'mentionedUsers': [User(username='Coborns',\n",
      "                         id=259343940,\n",
      "                         displayname='Coborns',\n",
      "                         rawDescription=None,\n",
      "                         renderedDescription=None,\n",
      "                         descriptionLinks=None,\n",
      "                         verified=None,\n",
      "                         created=None,\n",
      "                         followersCount=None,\n",
      "                         friendsCount=None,\n",
      "                         statusesCount=None,\n",
      "                         favouritesCount=None,\n",
      "                         listedCount=None,\n",
      "                         mediaCount=None,\n",
      "                         location=None,\n",
      "                         protected=None,\n",
      "                         link=None,\n",
      "                         profileImageUrl=None,\n",
      "                         profileBannerUrl=None,\n",
      "                         label=None),\n",
      "                    User(username='pgrocer',\n",
      "                         id=25840746,\n",
      "                         displayname='Progressive Grocer',\n",
      "                         rawDescription=None,\n",
      "                         renderedDescription=None,\n",
      "                         descriptionLinks=None,\n",
      "                         verified=None,\n",
      "                         created=None,\n",
      "                         followersCount=None,\n",
      "                         friendsCount=None,\n",
      "                         statusesCount=None,\n",
      "                         favouritesCount=None,\n",
      "                         listedCount=None,\n",
      "                         mediaCount=None,\n",
      "                         location=None,\n",
      "                         protected=None,\n",
      "                         link=None,\n",
      "                         profileImageUrl=None,\n",
      "                         profileBannerUrl=None,\n",
      "                         label=None),\n",
      "                    User(username='sullivansfoods',\n",
      "                         id=143845303,\n",
      "                         displayname='Sullivans Foods',\n",
      "                         rawDescription=None,\n",
      "                         renderedDescription=None,\n",
      "                         descriptionLinks=None,\n",
      "                         verified=None,\n",
      "                         created=None,\n",
      "                         followersCount=None,\n",
      "                         friendsCount=None,\n",
      "                         statusesCount=None,\n",
      "                         favouritesCount=None,\n",
      "                         listedCount=None,\n",
      "                         mediaCount=None,\n",
      "                         location=None,\n",
      "                         protected=None,\n",
      "                         link=None,\n",
      "                         profileImageUrl=None,\n",
      "                         profileBannerUrl=None,\n",
      "                         label=None)],\n",
      " 'place': None,\n",
      " 'quoteCount': 0,\n",
      " 'quotedTweet': None,\n",
      " 'rawContent': '.@Coborns has signed a purchase agreement to acquire '\n",
      "               'Sullivan’s Foods grocery stores, along with several other '\n",
      "               'retail business units, Illinois, marking Coborn’s first '\n",
      "               'expansion into that state. @PGrocer https://t.co/3KXG6Sh4LB\\n'\n",
      "               '\\n'\n",
      "               '#retail #supermarket #grocery @sullivansfoods '\n",
      "               'https://t.co/uKpkSCO6gl',\n",
      " 'renderedContent': '.@Coborns has signed a purchase agreement to acquire '\n",
      "                    'Sullivan’s Foods grocery stores, along with several other '\n",
      "                    'retail business units, Illinois, marking Coborn’s first '\n",
      "                    'expansion into that state. @PGrocer rfr.bz/t5o9ayv\\n'\n",
      "                    '\\n'\n",
      "                    '#retail #supermarket #grocery @sullivansfoods '\n",
      "                    'https://t.co/uKpkSCO6gl',\n",
      " 'replyCount': 0,\n",
      " 'retweetCount': 1,\n",
      " 'retweetedTweet': None,\n",
      " 'source': '<a href=\"https://www.campaign3.com\" rel=\"nofollow\">Campaign '\n",
      "           'Share</a>',\n",
      " 'sourceLabel': 'Campaign Share',\n",
      " 'sourceUrl': 'https://www.campaign3.com',\n",
      " 'url': 'https://twitter.com/BNumainville/status/1647978796434464768',\n",
      " 'user': User(username='BNumainville',\n",
      "              id=15953779,\n",
      "              displayname='Brian Numainville',\n",
      "              rawDescription='Consultant 💡 | Author 📚 | Speaker 📣  | Thought '\n",
      "                             'Leader 💬\\n'\n",
      "                             'FOCUS: strategy, research, org feedback, '\n",
      "                             'marketing & PR for retailers, wholesalers, & '\n",
      "                             'nonprofits.',\n",
      "              renderedDescription='Consultant 💡 | Author 📚 | Speaker 📣  | '\n",
      "                                  'Thought Leader 💬\\n'\n",
      "                                  'FOCUS: strategy, research, org feedback, '\n",
      "                                  'marketing & PR for retailers, wholesalers, '\n",
      "                                  '& nonprofits.',\n",
      "              descriptionLinks=None,\n",
      "              verified=False,\n",
      "              created=datetime.datetime(2008, 8, 23, 3, 25, 27, tzinfo=datetime.timezone.utc),\n",
      "              followersCount=1391,\n",
      "              friendsCount=3236,\n",
      "              statusesCount=7507,\n",
      "              favouritesCount=3138,\n",
      "              listedCount=82,\n",
      "              mediaCount=243,\n",
      "              location='Minneapolis, Minnesota',\n",
      "              protected=False,\n",
      "              link=None,\n",
      "              profileImageUrl='https://pbs.twimg.com/profile_images/1602493377894834176/nYgCL5zJ_normal.jpg',\n",
      "              profileBannerUrl='https://pbs.twimg.com/profile_banners/15953779/1659801969',\n",
      "              label=None),\n",
      " 'vibe': None,\n",
      " 'viewCount': 18}\n"
     ]
    }
   ],
   "source": [
    "for tweet in sntwitter.TwitterSearchScraper(query).get_items():\n",
    "    pprint(vars(tweet))\n",
    "    break"
   ]
  },
  {
   "cell_type": "code",
   "execution_count": 6,
   "metadata": {},
   "outputs": [
    {
     "name": "stderr",
     "output_type": "stream",
     "text": [
      "/var/folders/q6/tgr7ldr51r1634xd8hgkp_2w0000gn/T/ipykernel_1588/4227882996.py:7: DeprecatedFeatureWarning: content is deprecated, use rawContent instead\n",
      "  tweets.append([tweet.date, tweet.user.username, tweet.content])\n"
     ]
    }
   ],
   "source": [
    "limit = 1000\n",
    "tweets = []\n",
    "for tweet in sntwitter.TwitterSearchScraper(query).get_items():\n",
    "   if len(tweets) == limit:\n",
    "       break\n",
    "   else:\n",
    "       tweets.append([tweet.date, tweet.user.username, tweet.content])"
   ]
  },
  {
   "cell_type": "code",
   "execution_count": 10,
   "metadata": {},
   "outputs": [
    {
     "data": {
      "text/plain": [
       "[datetime.datetime(2023, 4, 17, 15, 2, 17, tzinfo=datetime.timezone.utc),\n",
       " 'BNumainville',\n",
       " '.@Coborns has signed a purchase agreement to acquire Sullivan’s Foods grocery stores, along with several other retail business units, Illinois, marking Coborn’s first expansion into that state. @PGrocer https://t.co/3KXG6Sh4LB\\n\\n#retail #supermarket #grocery @sullivansfoods https://t.co/uKpkSCO6gl']"
      ]
     },
     "execution_count": 10,
     "metadata": {},
     "output_type": "execute_result"
    }
   ],
   "source": [
    "tweets[0]"
   ]
  },
  {
   "cell_type": "code",
   "execution_count": 12,
   "metadata": {},
   "outputs": [],
   "source": [
    "with open('grocery_tweets.json', 'w') as f:\n",
    "    json.dump([t[2] for t in tweets], f)"
   ]
  },
  {
   "cell_type": "code",
   "execution_count": null,
   "metadata": {},
   "outputs": [],
   "source": []
  }
 ],
 "metadata": {
  "kernelspec": {
   "display_name": "vegi_esc_server",
   "language": "python",
   "name": "python3"
  },
  "language_info": {
   "codemirror_mode": {
    "name": "ipython",
    "version": 3
   },
   "file_extension": ".py",
   "mimetype": "text/x-python",
   "name": "python",
   "nbconvert_exporter": "python",
   "pygments_lexer": "ipython3",
   "version": "3.11.2"
  },
  "orig_nbformat": 4
 },
 "nbformat": 4,
 "nbformat_minor": 2
}
